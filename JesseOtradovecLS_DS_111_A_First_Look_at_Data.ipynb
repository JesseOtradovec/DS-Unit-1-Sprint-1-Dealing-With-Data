{
  "nbformat": 4,
  "nbformat_minor": 0,
  "metadata": {
    "colab": {
      "name": "JesseOtradovecLS_DS_111_A_First_Look_at_Data.ipynb",
      "version": "0.3.2",
      "provenance": [],
      "collapsed_sections": [],
      "include_colab_link": true
    },
    "kernelspec": {
      "name": "python3",
      "display_name": "Python 3"
    }
  },
  "cells": [
    {
      "cell_type": "markdown",
      "metadata": {
        "id": "view-in-github",
        "colab_type": "text"
      },
      "source": [
        "<a href=\"https://colab.research.google.com/github/JesseOtradovec/DS-Unit-1-Sprint-1-Dealing-With-Data/blob/master/JesseOtradovecLS_DS_111_A_First_Look_at_Data.ipynb\" target=\"_parent\"><img src=\"https://colab.research.google.com/assets/colab-badge.svg\" alt=\"Open In Colab\"/></a>"
      ]
    },
    {
      "cell_type": "markdown",
      "metadata": {
        "id": "Okfr_uhwhS1X",
        "colab_type": "text"
      },
      "source": [
        "# Lambda School Data Science - A First Look at Data\n",
        "\n"
      ]
    },
    {
      "cell_type": "markdown",
      "metadata": {
        "id": "9dtJETFRhnOG",
        "colab_type": "text"
      },
      "source": [
        "## Lecture - let's explore Python DS libraries and examples!\n",
        "\n",
        "The Python Data Science ecosystem is huge. You've seen some of the big pieces - pandas, scikit-learn, matplotlib. What parts do you want to see more of?"
      ]
    },
    {
      "cell_type": "code",
      "metadata": {
        "id": "WiBkgmPJhmhE",
        "colab_type": "code",
        "colab": {}
      },
      "source": [
        "# TODO - we'll be doing this live, taking requests\n",
        "# and reproducing what it is to look up and learn things"
      ],
      "execution_count": 0,
      "outputs": []
    },
    {
      "cell_type": "markdown",
      "metadata": {
        "id": "lOqaPds9huME",
        "colab_type": "text"
      },
      "source": [
        "## Assignment - now it's your turn\n",
        "\n",
        "Pick at least one Python DS library, and using documentation/examples reproduce in this notebook something cool. It's OK if you don't fully understand it or get it 100% working, but do put in effort and look things up."
      ]
    },
    {
      "cell_type": "code",
      "metadata": {
        "id": "TGUS79cOhPWj",
        "colab_type": "code",
        "colab": {}
      },
      "source": [
        "import pandas as pd \n",
        "import numpy as np\n",
        "%matplotlib inline\n",
        "import matplotlib.pyplot as plt\n",
        "\n",
        "\n",
        "#I'm making a particular system of three parabolic equations."
      ],
      "execution_count": 0,
      "outputs": []
    },
    {
      "cell_type": "markdown",
      "metadata": {
        "id": "nWGOLjaLwKMN",
        "colab_type": "text"
      },
      "source": [
        "$$\\left(\n",
        "\\begin{array}{ccc}\n",
        "x_1^2 & x_1 & 1 \\\\\n",
        "x_2^2 & x_2 & 1 \\\\\n",
        "x_3^2 & x_3 & 1 \\\\\n",
        "\\end{array}\n",
        "\\right)\n",
        "\\left(\n",
        "\\begin{array}{c}\n",
        "a \\\\b \\\\c \\\\\n",
        "\\end{array}\n",
        "\\right)\n",
        "=\n",
        "\\left(\n",
        "\\begin{array}{c}\n",
        "y_1 \\\\\n",
        "y_2 \\\\\n",
        "y_3 \\\\\n",
        "\\end{array}\n",
        "\\right)$$"
      ]
    },
    {
      "cell_type": "code",
      "metadata": {
        "id": "ir0CNdrrnsTF",
        "colab_type": "code",
        "outputId": "60b5ed9f-4788-4e1c-ffaf-f99ebbbe968a",
        "colab": {
          "base_uri": "https://localhost:8080/",
          "height": 102
        }
      },
      "source": [
        "xp = np.array([-2, 1, 4])\n",
        "yp = np.array([2, -1, 4])\n",
        "A = np.zeros((3,3))\n",
        "rhs = np.zeros(3)\n",
        "for i in range (3):\n",
        "  A[i] = xp [i] **2, xp[i], 1\n",
        "  rhs[i] = yp[i]\n",
        "  \n",
        "print(\"Array A:\")\n",
        "print(A)\n",
        "print(\"rhs:\", rhs)"
      ],
      "execution_count": 14,
      "outputs": [
        {
          "output_type": "stream",
          "text": [
            "Array A:\n",
            "[[ 4. -2.  1.]\n",
            " [ 1.  1.  1.]\n",
            " [16.  4.  1.]]\n",
            "rhs: [ 2. -1.  4.]\n"
          ],
          "name": "stdout"
        }
      ]
    },
    {
      "cell_type": "code",
      "metadata": {
        "id": "QuiARziPuas8",
        "colab_type": "code",
        "colab": {
          "base_uri": "https://localhost:8080/",
          "height": 68
        },
        "outputId": "d67f7802-4554-4f35-faf8-830ca7f49830"
      },
      "source": [
        "sol=np.linalg.solve(A,rhs)\n",
        "print(\"solution is:\", sol)\n",
        "print(\"specified values of y:\", yp)\n",
        "print(\"A @ sol:\", A @ sol) #this is new syntax"
      ],
      "execution_count": 16,
      "outputs": [
        {
          "output_type": "stream",
          "text": [
            "solution is: [ 0.44444444 -0.55555556 -0.88888889]\n",
            "specified values of y: [ 2 -1  4]\n",
            "A @ sol: [ 2. -1.  4.]\n"
          ],
          "name": "stdout"
        }
      ]
    },
    {
      "cell_type": "code",
      "metadata": {
        "id": "3_jtm1wRu_SV",
        "colab_type": "code",
        "colab": {
          "base_uri": "https://localhost:8080/",
          "height": 286
        },
        "outputId": "e324703a-3de7-4036-b6d2-209c9e7a4d6d"
      },
      "source": [
        "plt.plot(xp,yp,'ro')\n",
        "x = np.linspace(-3, 5, 100)\n",
        "y = sol[0] * x ** 2 + sol[1] *x + sol[2]\n",
        "plt.plot(x,y,'b')"
      ],
      "execution_count": 20,
      "outputs": [
        {
          "output_type": "execute_result",
          "data": {
            "text/plain": [
              "[<matplotlib.lines.Line2D at 0x7f3313e30a90>]"
            ]
          },
          "metadata": {
            "tags": []
          },
          "execution_count": 20
        },
        {
          "output_type": "display_data",
          "data": {
            "image/png": "[encoded data removed]",
            "text/plain": [
              "<Figure size 432x288 with 1 Axes>"
            ]
          },
          "metadata": {
            "tags": []
          }
        }
      ]
    },
    {
      "cell_type": "markdown",
      "metadata": {
        "id": "BT9gdS7viJZa",
        "colab_type": "text"
      },
      "source": [
        "### Assignment questions\n",
        "\n",
        "After you've worked on some code, answer the following questions in this text block:\n",
        "\n",
        "1.  Describe in a paragraph of text what you did and why, as if you were writing an email to somebody interested but nontechnical.\n",
        "\n",
        "I threw a linearly interdependant system of three parabolic equations into python to solve it and plotted the solution to check my work, along with checking it against the work of the person who made the notebook I'm working with. \n",
        "\n",
        "2.  What was the most challenging part of what you did? Finding the notebook I wanted to work with that was interesting enough to play with but not a research paper on physics... I basically want to do physics research and develop a pipeline for searching for signals in gravitational wave data while at Lambda. \n",
        "\n",
        "3.  What was the most interesting thing you learned? The A @ y syntax works!\n",
        "\n",
        "4.  What area would you like to explore with more time? Seriously I spent most of my assignment time debugging zoom and then getting excited about physics papers. I just didn't have time to reproduce any physics results today. Also I need to remember how to tell numpy how to multiply matrices instead of looping like they did in the example. For the exercise. \n",
        "\n",
        "\n"
      ]
    },
    {
      "cell_type": "markdown",
      "metadata": {
        "id": "_XXg2crAipwP",
        "colab_type": "text"
      },
      "source": [
        "## Stretch goals and resources\n",
        "\n",
        "Following are *optional* things for you to take a look at. Focus on the above assignment first, and make sure to commit and push your changes to GitHub (and since this is the first assignment of the sprint, open a PR as well).\n",
        "\n",
        "- [pandas documentation](https://pandas.pydata.org/pandas-docs/stable/)\n",
        "- [scikit-learn documentation](http://scikit-learn.org/stable/documentation.html)\n",
        "- [matplotlib documentation](https://matplotlib.org/contents.html)\n",
        "- [Awesome Data Science](https://github.com/bulutyazilim/awesome-datascience) - a list of many types of DS resources\n",
        "\n",
        "Stretch goals:\n",
        "\n",
        "- Find and read blogs, walkthroughs, and other examples of people working through cool things with data science - and share with your classmates!\n",
        "- Write a blog post (Medium is a popular place to publish) introducing yourself as somebody learning data science, and talking about what you've learned already and what you're excited to learn more about."
      ]
    },
    {
      "cell_type": "code",
      "metadata": {
        "id": "QJe1hC69x7Bd",
        "colab_type": "code",
        "colab": {}
      },
      "source": [
        "\n"
      ],
      "execution_count": 0,
      "outputs": []
    },
    {
      "cell_type": "markdown",
      "metadata": {
        "id": "7iQ2rwiyyh5t",
        "colab_type": "text"
      },
      "source": [
        "Exercises given me by the resourse I'm working with:\n",
        "\n",
        "Consider the following four measurements of the quantity y at time t: (t_0,y_0)=(0,3), (t_1,y_1)=(0.25,1), (t_2,y_2)=(0.5,−3), (t_3,y_3)=(0.75,1). The measurements are part of a wave that may be written as\n",
        "\n",
        "y=a*cos(pi*t)+b*cos(2*pi*t)+c*cos(3*pi*t)+d*cos(4*pi*t)\n",
        "where a, b, c, and d are parameters. Build a system of four linear equations and solve for the four parameters. Creates a plot of the wave for t going from 0 to 1 and show the four measurements with dots.\n",
        "\n",
        "I actually just don't know how to do this exercise because the t isn't just multiplied through, it's in a cosine... So I'm just going to make up an a matrix and multiply it through then follow along with the solution given. "
      ]
    },
    {
      "cell_type": "code",
      "metadata": {
        "id": "qQfr9-yJye71",
        "colab_type": "code",
        "colab": {}
      },
      "source": [
        "tp = np.matrix('0; 0.25; 0.5; 0.75')\n",
        "yp = np.matrix('3;1;-3;1')\n",
        "\n",
        "A = np.matrix('1,2,3,4;5,6,7,8;2,3,5,6;7,5,4,3')\n",
        "\n",
        "rhs = yp"
      ],
      "execution_count": 0,
      "outputs": []
    },
    {
      "cell_type": "code",
      "metadata": {
        "id": "JnQuUZDO2e_1",
        "colab_type": "code",
        "colab": {}
      },
      "source": [
        "sol = np.linalg.solve(A, yp)"
      ],
      "execution_count": 0,
      "outputs": []
    },
    {
      "cell_type": "code",
      "metadata": {
        "id": "K48nULDg5rAu",
        "colab_type": "code",
        "colab": {
          "base_uri": "https://localhost:8080/",
          "height": 102
        },
        "outputId": "84d02f1e-de7d-4390-bb50-960ef2719c28"
      },
      "source": [
        "print(\"a,b,c,d:\")\n",
        "print(sol)"
      ],
      "execution_count": 37,
      "outputs": [
        {
          "output_type": "stream",
          "text": [
            "a,b,c,d:\n",
            "[[  7.5]\n",
            " [ -2.5]\n",
            " [-22.5]\n",
            " [ 17. ]]\n"
          ],
          "name": "stdout"
        }
      ]
    },
    {
      "cell_type": "code",
      "metadata": {
        "id": "_6ltOlxE50vI",
        "colab_type": "code",
        "colab": {}
      },
      "source": [
        ""
      ],
      "execution_count": 0,
      "outputs": []
    },
    {
      "cell_type": "markdown",
      "metadata": {
        "id": "X4YozRYd6BlR",
        "colab_type": "text"
      },
      "source": [
        "ok, right, now just instead of making up the coeffecients for A I just need to multiply through with the cos(n pi t) and we have t. so... \n",
        "\n"
      ]
    },
    {
      "cell_type": "code",
      "metadata": {
        "id": "ZsEOotMV821F",
        "colab_type": "code",
        "colab": {
          "base_uri": "https://localhost:8080/",
          "height": 354
        },
        "outputId": "61fbffde-9b6c-44e0-ef95-cb8495c072f5"
      },
      "source": [
        "A = np.zeros((4, 4))\n",
        "rhs = np.zeros(4)\n",
        "for i in range(4):\n",
        "    A[i] = np.cos(1 * np.pi * tp[i]), np.cos(2 * np.pi * tp[i]), \\\n",
        "           np.cos(3 * np.pi * tp[i]), np.cos(4 * np.pi * tp[i]) \n",
        "sol = np.linalg.solve(A, yp)\n",
        "print('a,b,c,d: ',sol)\n",
        "\n",
        "t = np.linspace(0, 1, 100)\n",
        "#print(t)\n",
        "y = sol[0] * np.cos(1 * np.pi * t) + sol[1] * np.cos(2 * np.pi * t) + \\\n",
        "    sol[2] * np.cos(3 * np.pi * t) + sol[3] * np.cos(4 * np.pi * t)\n",
        "print ()\n",
        "plt.plot(t, np.transpose(y), 'b', label='wave')\n",
        "plt.plot(tp, yp, 'ro', label='data')\n",
        "plt.show()"
      ],
      "execution_count": 47,
      "outputs": [
        {
          "output_type": "stream",
          "text": [
            "a,b,c,d:  [[ 1.]\n",
            " [ 2.]\n",
            " [ 1.]\n",
            " [-1.]]\n",
            "\n"
          ],
          "name": "stdout"
        },
        {
          "output_type": "display_data",
          "data": {
            "image/png": "[encoded data removed]",
            "text/plain": [
              "<Figure size 432x288 with 1 Axes>"
            ]
          },
          "metadata": {
            "tags": []
          }
        }
      ]
    },
    {
      "cell_type": "code",
      "metadata": {
        "id": "lLqEprqa9Bqs",
        "colab_type": "code",
        "colab": {}
      },
      "source": [
        ""
      ],
      "execution_count": 0,
      "outputs": []
    },
    {
      "cell_type": "markdown",
      "metadata": {
        "id": "2dgIeqJd-yJu",
        "colab_type": "text"
      },
      "source": [
        "Woot, I did it. "
      ]
    }
  ]
}